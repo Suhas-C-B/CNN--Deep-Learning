{
 "cells": [
  {
   "cell_type": "code",
   "execution_count": 1,
   "id": "91de147c",
   "metadata": {
    "_cell_guid": "b1076dfc-b9ad-4769-8c92-a6c4dae69d19",
    "_uuid": "8f2839f25d086af736a60e9eeb907d3b93b6e0e5",
    "execution": {
     "iopub.execute_input": "2022-02-08T15:41:35.705002Z",
     "iopub.status.busy": "2022-02-08T15:41:35.703807Z",
     "iopub.status.idle": "2022-02-08T15:41:42.174618Z",
     "shell.execute_reply": "2022-02-08T15:41:42.175335Z",
     "shell.execute_reply.started": "2022-02-08T14:58:19.199315Z"
    },
    "papermill": {
     "duration": 6.490955,
     "end_time": "2022-02-08T15:41:42.175728",
     "exception": false,
     "start_time": "2022-02-08T15:41:35.684773",
     "status": "completed"
    },
    "tags": []
   },
   "outputs": [],
   "source": [
    "import tensorflow as tf\n",
    "from keras.preprocessing.image import ImageDataGenerator"
   ]
  },
  {
   "cell_type": "markdown",
   "id": "329fd3cb",
   "metadata": {
    "papermill": {
     "duration": 0.013721,
     "end_time": "2022-02-08T15:41:42.204669",
     "exception": false,
     "start_time": "2022-02-08T15:41:42.190948",
     "status": "completed"
    },
    "tags": []
   },
   "source": [
    "# Generating Images from our training and test set"
   ]
  },
  {
   "cell_type": "code",
   "execution_count": 2,
   "id": "4f1a65f4",
   "metadata": {
    "execution": {
     "iopub.execute_input": "2022-02-08T15:41:42.236504Z",
     "iopub.status.busy": "2022-02-08T15:41:42.235493Z",
     "iopub.status.idle": "2022-02-08T15:41:42.240014Z",
     "shell.execute_reply": "2022-02-08T15:41:42.240510Z",
     "shell.execute_reply.started": "2022-02-08T15:01:36.901466Z"
    },
    "papermill": {
     "duration": 0.022247,
     "end_time": "2022-02-08T15:41:42.240726",
     "exception": false,
     "start_time": "2022-02-08T15:41:42.218479",
     "status": "completed"
    },
    "tags": []
   },
   "outputs": [],
   "source": [
    "train_datagen = ImageDataGenerator(rescale = 1/255)"
   ]
  },
  {
   "cell_type": "code",
   "execution_count": 3,
   "id": "127bf871",
   "metadata": {
    "execution": {
     "iopub.execute_input": "2022-02-08T15:41:42.273196Z",
     "iopub.status.busy": "2022-02-08T15:41:42.272048Z",
     "iopub.status.idle": "2022-02-08T15:41:49.936001Z",
     "shell.execute_reply": "2022-02-08T15:41:49.935452Z",
     "shell.execute_reply.started": "2022-02-08T15:08:25.385795Z"
    },
    "papermill": {
     "duration": 7.681344,
     "end_time": "2022-02-08T15:41:49.936192",
     "exception": false,
     "start_time": "2022-02-08T15:41:42.254848",
     "status": "completed"
    },
    "tags": []
   },
   "outputs": [
    {
     "name": "stdout",
     "output_type": "stream",
     "text": [
      "Found 5216 images belonging to 2 classes.\n"
     ]
    }
   ],
   "source": [
    "train_set = train_datagen.flow_from_directory('../input/chest-xray-pneumonia/chest_xray/train',target_size=(64,64),batch_size=32,\n",
    "                                                class_mode='binary')"
   ]
  },
  {
   "cell_type": "markdown",
   "id": "7100ddcb",
   "metadata": {
    "papermill": {
     "duration": 0.014867,
     "end_time": "2022-02-08T15:41:49.965859",
     "exception": false,
     "start_time": "2022-02-08T15:41:49.950992",
     "status": "completed"
    },
    "tags": []
   },
   "source": [
    "train_datagen = ImageDataGenerator(rescale = 1/255)"
   ]
  },
  {
   "cell_type": "code",
   "execution_count": 4,
   "id": "e942d502",
   "metadata": {
    "execution": {
     "iopub.execute_input": "2022-02-08T15:41:50.002979Z",
     "iopub.status.busy": "2022-02-08T15:41:50.002248Z",
     "iopub.status.idle": "2022-02-08T15:41:50.114638Z",
     "shell.execute_reply": "2022-02-08T15:41:50.115273Z",
     "shell.execute_reply.started": "2022-02-08T15:08:31.502356Z"
    },
    "papermill": {
     "duration": 0.13493,
     "end_time": "2022-02-08T15:41:50.115484",
     "exception": false,
     "start_time": "2022-02-08T15:41:49.980554",
     "status": "completed"
    },
    "tags": []
   },
   "outputs": [
    {
     "name": "stdout",
     "output_type": "stream",
     "text": [
      "Found 624 images belonging to 2 classes.\n"
     ]
    }
   ],
   "source": [
    "test_datagen = ImageDataGenerator(rescale=1/255)\n",
    "test_set = test_datagen.flow_from_directory('../input/chest-xray-pneumonia/chest_xray/test',\n",
    "                                             target_size = (64,64), batch_size=32, class_mode='binary')\n"
   ]
  },
  {
   "cell_type": "code",
   "execution_count": 5,
   "id": "3a3ad6e2",
   "metadata": {
    "execution": {
     "iopub.execute_input": "2022-02-08T15:41:50.151370Z",
     "iopub.status.busy": "2022-02-08T15:41:50.150413Z",
     "iopub.status.idle": "2022-02-08T15:41:50.212766Z",
     "shell.execute_reply": "2022-02-08T15:41:50.213373Z",
     "shell.execute_reply.started": "2022-02-08T15:08:59.594894Z"
    },
    "papermill": {
     "duration": 0.082976,
     "end_time": "2022-02-08T15:41:50.213579",
     "exception": false,
     "start_time": "2022-02-08T15:41:50.130603",
     "status": "completed"
    },
    "tags": []
   },
   "outputs": [
    {
     "name": "stderr",
     "output_type": "stream",
     "text": [
      "\n",
      "User settings:\n",
      "\n",
      "   KMP_AFFINITY=granularity=fine,noverbose,compact,1,0\n",
      "   KMP_BLOCKTIME=0\n",
      "   KMP_SETTINGS=1\n",
      "   KMP_WARNINGS=0\n",
      "\n",
      "Effective settings:\n",
      "\n",
      "   KMP_ABORT_DELAY=0\n",
      "   KMP_ADAPTIVE_LOCK_PROPS='1,1024'\n",
      "   KMP_ALIGN_ALLOC=64\n",
      "   KMP_ALL_THREADPRIVATE=128\n",
      "   KMP_ATOMIC_MODE=2\n",
      "   KMP_BLOCKTIME=0\n",
      "   KMP_CPUINFO_FILE: value is not defined\n",
      "   KMP_DETERMINISTIC_REDUCTION=false\n",
      "   KMP_DEVICE_THREAD_LIMIT=2147483647\n",
      "   KMP_DISP_NUM_BUFFERS=7\n",
      "   KMP_DUPLICATE_LIB_OK=false\n",
      "   KMP_ENABLE_TASK_THROTTLING=true\n",
      "   KMP_FORCE_REDUCTION: value is not defined\n",
      "   KMP_FOREIGN_THREADS_THREADPRIVATE=true\n",
      "   KMP_FORKJOIN_BARRIER='2,2'\n",
      "   KMP_FORKJOIN_BARRIER_PATTERN='hyper,hyper'\n",
      "   KMP_GTID_MODE=3\n",
      "   KMP_HANDLE_SIGNALS=false\n",
      "   KMP_HOT_TEAMS_MAX_LEVEL=1\n",
      "   KMP_HOT_TEAMS_MODE=0\n",
      "   KMP_INIT_AT_FORK=true\n",
      "   KMP_LIBRARY=throughput\n",
      "   KMP_LOCK_KIND=queuing\n",
      "   KMP_MALLOC_POOL_INCR=1M\n",
      "   KMP_NUM_LOCKS_IN_BLOCK=1\n",
      "   KMP_PLAIN_BARRIER='2,2'\n",
      "   KMP_PLAIN_BARRIER_PATTERN='hyper,hyper'\n",
      "   KMP_REDUCTION_BARRIER='1,1'\n",
      "   KMP_REDUCTION_BARRIER_PATTERN='hyper,hyper'\n",
      "   KMP_SCHEDULE='static,balanced;guided,iterative'\n",
      "   KMP_SETTINGS=true\n",
      "   KMP_SPIN_BACKOFF_PARAMS='4096,100'\n",
      "   KMP_STACKOFFSET=64\n",
      "   KMP_STACKPAD=0\n",
      "   KMP_STACKSIZE=8M\n",
      "   KMP_STORAGE_MAP=false\n",
      "   KMP_TASKING=2\n",
      "   KMP_TASKLOOP_MIN_TASKS=0\n",
      "   KMP_TASK_STEALING_CONSTRAINT=1\n",
      "   KMP_TEAMS_THREAD_LIMIT=4\n",
      "   KMP_TOPOLOGY_METHOD=all\n",
      "   KMP_USE_YIELD=1\n",
      "   KMP_VERSION=false\n",
      "   KMP_WARNINGS=false\n",
      "   OMP_AFFINITY_FORMAT='OMP: pid %P tid %i thread %n bound to OS proc set {%A}'\n",
      "   OMP_ALLOCATOR=omp_default_mem_alloc\n",
      "   OMP_CANCELLATION=false\n",
      "   OMP_DEFAULT_DEVICE=0\n",
      "   OMP_DISPLAY_AFFINITY=false\n",
      "   OMP_DISPLAY_ENV=false\n",
      "   OMP_DYNAMIC=false\n",
      "   OMP_MAX_ACTIVE_LEVELS=1\n",
      "   OMP_MAX_TASK_PRIORITY=0\n",
      "   OMP_NESTED: deprecated; max-active-levels-var=1\n",
      "   OMP_NUM_THREADS: value is not defined\n",
      "   OMP_PLACES: value is not defined\n",
      "   OMP_PROC_BIND='intel'\n",
      "   OMP_SCHEDULE='static'\n",
      "   OMP_STACKSIZE=8M\n",
      "   OMP_TARGET_OFFLOAD=DEFAULT\n",
      "   OMP_THREAD_LIMIT=2147483647\n",
      "   OMP_WAIT_POLICY=PASSIVE\n",
      "   KMP_AFFINITY='noverbose,warnings,respect,granularity=fine,compact,1,0'\n",
      "\n",
      "2022-02-08 15:41:50.187215: I tensorflow/core/common_runtime/process_util.cc:146] Creating new thread pool with default inter op setting: 2. Tune using inter_op_parallelism_threads for best performance.\n"
     ]
    }
   ],
   "source": [
    "cnn = tf.keras.models.Sequential()"
   ]
  },
  {
   "cell_type": "code",
   "execution_count": 6,
   "id": "261a4503",
   "metadata": {
    "execution": {
     "iopub.execute_input": "2022-02-08T15:41:50.249249Z",
     "iopub.status.busy": "2022-02-08T15:41:50.248086Z",
     "iopub.status.idle": "2022-02-08T15:41:50.260378Z",
     "shell.execute_reply": "2022-02-08T15:41:50.260915Z",
     "shell.execute_reply.started": "2022-02-08T15:11:38.307189Z"
    },
    "papermill": {
     "duration": 0.031743,
     "end_time": "2022-02-08T15:41:50.261118",
     "exception": false,
     "start_time": "2022-02-08T15:41:50.229375",
     "status": "completed"
    },
    "tags": []
   },
   "outputs": [],
   "source": [
    "cnn.add(tf.keras.layers.Conv2D(filters=32, kernel_size=3, activation='relu'))"
   ]
  },
  {
   "cell_type": "code",
   "execution_count": 7,
   "id": "827d568d",
   "metadata": {
    "execution": {
     "iopub.execute_input": "2022-02-08T15:41:50.294786Z",
     "iopub.status.busy": "2022-02-08T15:41:50.294046Z",
     "iopub.status.idle": "2022-02-08T15:41:50.299191Z",
     "shell.execute_reply": "2022-02-08T15:41:50.299705Z",
     "shell.execute_reply.started": "2022-02-08T15:16:26.176056Z"
    },
    "papermill": {
     "duration": 0.023637,
     "end_time": "2022-02-08T15:41:50.299915",
     "exception": false,
     "start_time": "2022-02-08T15:41:50.276278",
     "status": "completed"
    },
    "tags": []
   },
   "outputs": [],
   "source": [
    "cnn.add(tf.keras.layers.MaxPool2D(pool_size=2, strides=2))"
   ]
  },
  {
   "cell_type": "code",
   "execution_count": 8,
   "id": "8714522a",
   "metadata": {
    "execution": {
     "iopub.execute_input": "2022-02-08T15:41:50.339268Z",
     "iopub.status.busy": "2022-02-08T15:41:50.338497Z",
     "iopub.status.idle": "2022-02-08T15:41:50.340953Z",
     "shell.execute_reply": "2022-02-08T15:41:50.341438Z",
     "shell.execute_reply.started": "2022-02-08T15:17:28.933502Z"
    },
    "papermill": {
     "duration": 0.02643,
     "end_time": "2022-02-08T15:41:50.341674",
     "exception": false,
     "start_time": "2022-02-08T15:41:50.315244",
     "status": "completed"
    },
    "tags": []
   },
   "outputs": [],
   "source": [
    "cnn.add(tf.keras.layers.Conv2D(filters=32, kernel_size=3, activation='relu'))\n",
    "cnn.add(tf.keras.layers.MaxPool2D(pool_size=2, strides=2))"
   ]
  },
  {
   "cell_type": "markdown",
   "id": "eba9306b",
   "metadata": {
    "papermill": {
     "duration": 0.014787,
     "end_time": "2022-02-08T15:41:50.371953",
     "exception": false,
     "start_time": "2022-02-08T15:41:50.357166",
     "status": "completed"
    },
    "tags": []
   },
   "source": [
    "# Flattening"
   ]
  },
  {
   "cell_type": "code",
   "execution_count": 9,
   "id": "a7e500e6",
   "metadata": {
    "execution": {
     "iopub.execute_input": "2022-02-08T15:41:50.406031Z",
     "iopub.status.busy": "2022-02-08T15:41:50.405342Z",
     "iopub.status.idle": "2022-02-08T15:41:50.410223Z",
     "shell.execute_reply": "2022-02-08T15:41:50.410737Z",
     "shell.execute_reply.started": "2022-02-08T15:18:39.229291Z"
    },
    "papermill": {
     "duration": 0.023988,
     "end_time": "2022-02-08T15:41:50.410945",
     "exception": false,
     "start_time": "2022-02-08T15:41:50.386957",
     "status": "completed"
    },
    "tags": []
   },
   "outputs": [],
   "source": [
    "cnn.add(tf.keras.layers.Flatten())"
   ]
  },
  {
   "cell_type": "code",
   "execution_count": 10,
   "id": "0b574276",
   "metadata": {
    "execution": {
     "iopub.execute_input": "2022-02-08T15:41:50.444888Z",
     "iopub.status.busy": "2022-02-08T15:41:50.444206Z",
     "iopub.status.idle": "2022-02-08T15:41:50.449076Z",
     "shell.execute_reply": "2022-02-08T15:41:50.449660Z",
     "shell.execute_reply.started": "2022-02-08T15:23:07.206653Z"
    },
    "papermill": {
     "duration": 0.023703,
     "end_time": "2022-02-08T15:41:50.449862",
     "exception": false,
     "start_time": "2022-02-08T15:41:50.426159",
     "status": "completed"
    },
    "tags": []
   },
   "outputs": [],
   "source": [
    "# Full connection\n",
    "cnn.add(tf.keras.layers.Dense(units=128, activation='relu'))"
   ]
  },
  {
   "cell_type": "code",
   "execution_count": 11,
   "id": "6a122fd7",
   "metadata": {
    "execution": {
     "iopub.execute_input": "2022-02-08T15:41:50.485564Z",
     "iopub.status.busy": "2022-02-08T15:41:50.484802Z",
     "iopub.status.idle": "2022-02-08T15:41:50.490495Z",
     "shell.execute_reply": "2022-02-08T15:41:50.489904Z",
     "shell.execute_reply.started": "2022-02-08T15:24:06.939883Z"
    },
    "papermill": {
     "duration": 0.024897,
     "end_time": "2022-02-08T15:41:50.490665",
     "exception": false,
     "start_time": "2022-02-08T15:41:50.465768",
     "status": "completed"
    },
    "tags": []
   },
   "outputs": [],
   "source": [
    "# Output Layer and Compile\n",
    "cnn.add(tf.keras.layers.Dense(units=1, activation='sigmoid'))"
   ]
  },
  {
   "cell_type": "code",
   "execution_count": 12,
   "id": "19e9ec32",
   "metadata": {
    "execution": {
     "iopub.execute_input": "2022-02-08T15:41:50.525774Z",
     "iopub.status.busy": "2022-02-08T15:41:50.524915Z",
     "iopub.status.idle": "2022-02-08T15:41:50.550672Z",
     "shell.execute_reply": "2022-02-08T15:41:50.551210Z",
     "shell.execute_reply.started": "2022-02-08T15:27:47.108724Z"
    },
    "papermill": {
     "duration": 0.045533,
     "end_time": "2022-02-08T15:41:50.551440",
     "exception": false,
     "start_time": "2022-02-08T15:41:50.505907",
     "status": "completed"
    },
    "tags": []
   },
   "outputs": [],
   "source": [
    "# Compiling the CNN\n",
    "cnn.compile(optimizer='adam', loss='binary_crossentropy', metrics='accuracy')"
   ]
  },
  {
   "cell_type": "code",
   "execution_count": 13,
   "id": "28bfdfe2",
   "metadata": {
    "execution": {
     "iopub.execute_input": "2022-02-08T15:41:50.585857Z",
     "iopub.status.busy": "2022-02-08T15:41:50.585158Z",
     "iopub.status.idle": "2022-02-08T15:48:41.842016Z",
     "shell.execute_reply": "2022-02-08T15:48:41.841340Z",
     "shell.execute_reply.started": "2022-02-08T15:27:57.110575Z"
    },
    "papermill": {
     "duration": 411.274963,
     "end_time": "2022-02-08T15:48:41.842221",
     "exception": false,
     "start_time": "2022-02-08T15:41:50.567258",
     "status": "completed"
    },
    "tags": []
   },
   "outputs": [
    {
     "name": "stderr",
     "output_type": "stream",
     "text": [
      "2022-02-08 15:41:51.692777: I tensorflow/compiler/mlir/mlir_graph_optimization_pass.cc:185] None of the MLIR Optimization Passes are enabled (registered 2)\n"
     ]
    },
    {
     "name": "stdout",
     "output_type": "stream",
     "text": [
      "Epoch 1/5\n",
      "163/163 [==============================] - 113s 691ms/step - loss: 0.2426 - accuracy: 0.8957 - val_loss: 0.5378 - val_accuracy: 0.7804\n",
      "Epoch 2/5\n",
      "163/163 [==============================] - 74s 453ms/step - loss: 0.1183 - accuracy: 0.9555 - val_loss: 0.6760 - val_accuracy: 0.7853\n",
      "Epoch 3/5\n",
      "163/163 [==============================] - 74s 457ms/step - loss: 0.0965 - accuracy: 0.9659 - val_loss: 0.6991 - val_accuracy: 0.7885\n",
      "Epoch 4/5\n",
      "163/163 [==============================] - 73s 450ms/step - loss: 0.0760 - accuracy: 0.9711 - val_loss: 0.5703 - val_accuracy: 0.8045\n",
      "Epoch 5/5\n",
      "163/163 [==============================] - 75s 459ms/step - loss: 0.0635 - accuracy: 0.9772 - val_loss: 0.8750 - val_accuracy: 0.7885\n"
     ]
    },
    {
     "data": {
      "text/plain": [
       "<keras.callbacks.History at 0x7f42494d6510>"
      ]
     },
     "execution_count": 13,
     "metadata": {},
     "output_type": "execute_result"
    }
   ],
   "source": [
    "cnn.fit(x=train_set, validation_data=test_set, epochs=5)"
   ]
  },
  {
   "cell_type": "code",
   "execution_count": 14,
   "id": "1ce3845f",
   "metadata": {
    "execution": {
     "iopub.execute_input": "2022-02-08T15:48:42.386586Z",
     "iopub.status.busy": "2022-02-08T15:48:42.385905Z",
     "iopub.status.idle": "2022-02-08T15:48:42.433777Z",
     "shell.execute_reply": "2022-02-08T15:48:42.434319Z"
    },
    "papermill": {
     "duration": 0.318021,
     "end_time": "2022-02-08T15:48:42.434555",
     "exception": false,
     "start_time": "2022-02-08T15:48:42.116534",
     "status": "completed"
    },
    "tags": []
   },
   "outputs": [],
   "source": [
    "import numpy as np\n",
    "from keras.preprocessing import image\n",
    "val_image = image.load_img('../input/chest-xray-pneumonia/chest_xray/val/NORMAL/NORMAL2-IM-1430-0001.jpeg')\n"
   ]
  }
 ],
 "metadata": {
  "kernelspec": {
   "display_name": "Python 3",
   "language": "python",
   "name": "python3"
  },
  "language_info": {
   "codemirror_mode": {
    "name": "ipython",
    "version": 3
   },
   "file_extension": ".py",
   "mimetype": "text/x-python",
   "name": "python",
   "nbconvert_exporter": "python",
   "pygments_lexer": "ipython3",
   "version": "3.7.12"
  },
  "papermill": {
   "default_parameters": {},
   "duration": 441.011538,
   "end_time": "2022-02-08T15:48:45.907755",
   "environment_variables": {},
   "exception": null,
   "input_path": "__notebook__.ipynb",
   "output_path": "__notebook__.ipynb",
   "parameters": {},
   "start_time": "2022-02-08T15:41:24.896217",
   "version": "2.3.3"
  }
 },
 "nbformat": 4,
 "nbformat_minor": 5
}
